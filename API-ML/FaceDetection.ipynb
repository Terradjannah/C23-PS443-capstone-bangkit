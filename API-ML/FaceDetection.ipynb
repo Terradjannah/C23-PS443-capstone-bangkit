{
 "cells": [
  {
   "cell_type": "code",
   "execution_count": null,
   "id": "c1a0ffe1",
   "metadata": {},
   "outputs": [],
   "source": [
    "!pip install Cmake"
   ]
  },
  {
   "cell_type": "code",
   "execution_count": null,
   "id": "6622e27b",
   "metadata": {},
   "outputs": [],
   "source": [
    "!pip install tensorflow opencv-python albumentations matplotlib"
   ]
  },
  {
   "cell_type": "code",
   "execution_count": null,
   "id": "9c8cc3f5",
   "metadata": {},
   "outputs": [],
   "source": [
    "!pip install tensorflow-cpu"
   ]
  },
  {
   "cell_type": "code",
   "execution_count": null,
   "id": "b1b40012",
   "metadata": {},
   "outputs": [],
   "source": [
    "import tensorflow as tf\n",
    "import numpy as np\n",
    "import cv2\n",
    "import os\n",
    "import json\n",
    "from matplotlib import pyplot as plt\n",
    "from tensorflow.keras.models import load_model"
   ]
  },
  {
   "cell_type": "code",
   "execution_count": null,
   "id": "1a752270",
   "metadata": {},
   "outputs": [],
   "source": [
    "#Avoid OOM errors by setting GPU Memory Consumption Growth\n",
    "gpus = tf.config.experimental.list_physical_devices('GPU')\n",
    "for gpu in gpus:\n",
    "    tf.config.experimental.set_memory_growth(gpu, True)"
   ]
  },
  {
   "cell_type": "code",
   "execution_count": null,
   "id": "664b2531",
   "metadata": {},
   "outputs": [],
   "source": [
    "print(\"Num GPUs Available: \", len(tf.config.list_physical_devices('GPU')))"
   ]
  },
  {
   "cell_type": "code",
   "execution_count": null,
   "id": "62acb6b7",
   "metadata": {},
   "outputs": [],
   "source": [
    "images = tf.data.Dataset.list_files('data/images/*.jpg', shuffle=False)"
   ]
  },
  {
   "cell_type": "code",
   "execution_count": null,
   "id": "46b1db3a",
   "metadata": {},
   "outputs": [],
   "source": [
    "def load_image(x):\n",
    "    byte_img = tf.io.read_file(x)\n",
    "    img = tf.io.decode_jpeg(byte_img)\n",
    "    return img"
   ]
  },
  {
   "cell_type": "code",
   "execution_count": null,
   "id": "fd497e80",
   "metadata": {},
   "outputs": [],
   "source": [
    "images = images.map(load_image)"
   ]
  },
  {
   "cell_type": "code",
   "execution_count": null,
   "id": "35b097f9",
   "metadata": {},
   "outputs": [],
   "source": [
    "images.as_numpy_iterator().next()"
   ]
  },
  {
   "cell_type": "code",
   "execution_count": null,
   "id": "509d1dac",
   "metadata": {},
   "outputs": [],
   "source": [
    "image_generator = images.batch(4).as_numpy_iterator()"
   ]
  },
  {
   "cell_type": "code",
   "execution_count": null,
   "id": "ef2a8579",
   "metadata": {},
   "outputs": [],
   "source": [
    "plot_images = image_generator.next()"
   ]
  },
  {
   "cell_type": "code",
   "execution_count": null,
   "id": "bcdfea34",
   "metadata": {},
   "outputs": [],
   "source": [
    "fig, ax = plt.subplots(ncols=4, figsize=(20,20))\n",
    "for idx, image in enumerate(plot_images):\n",
    "    ax[idx].imshow(image)\n",
    "plt.show()"
   ]
  },
  {
   "cell_type": "code",
   "execution_count": null,
   "id": "81ec0a0a",
   "metadata": {},
   "outputs": [],
   "source": [
    "for folder in ['train', 'test', 'val']:\n",
    "    for file in os.listdir(os.path.join('data', folder, 'images')):\n",
    "        \n",
    "        filename = file.split('.')[0]+'.json'\n",
    "        existing_filepath = os.path.join('data', 'labels', filename)\n",
    "        if os.path.exists(existing_filepath):\n",
    "            new_filepath = os.path.join('data', folder, 'labels', filename)\n",
    "            os.replace(existing_filepath, new_filepath)"
   ]
  },
  {
   "cell_type": "code",
   "execution_count": null,
   "id": "3d50dd1e",
   "metadata": {},
   "outputs": [],
   "source": [
    "import albumentations as alb"
   ]
  },
  {
   "cell_type": "code",
   "execution_count": null,
   "id": "8c785de8",
   "metadata": {},
   "outputs": [],
   "source": [
    "augmentor = alb.Compose([alb.RandomCrop(width=1500, height=1500),\n",
    "                        alb.HorizontalFlip(p=0.5),\n",
    "                        alb.RandomBrightnessContrast(p=0.2),\n",
    "                        alb.RandomGamma(p=0.2),\n",
    "                        alb.VerticalFlip(p=0.5),\n",
    "                        alb.RGBShift(p=0.2)],\n",
    "                       bbox_params=alb.BboxParams(format='albumentations', label_fields=['class_labels']))"
   ]
  },
  {
   "cell_type": "code",
   "execution_count": null,
   "id": "21c8dbe7",
   "metadata": {},
   "outputs": [],
   "source": [
    "img = cv2.imread(os.path.join('data','train', 'images', '1685344292297.jpg'))"
   ]
  },
  {
   "cell_type": "code",
   "execution_count": null,
   "id": "72b4bc9c",
   "metadata": {},
   "outputs": [],
   "source": [
    "with open(os.path.join('data','train','labels', '1685344292297.json'), 'r') as f:\n",
    "    label = json.load(f)"
   ]
  },
  {
   "cell_type": "code",
   "execution_count": null,
   "id": "5daf648e",
   "metadata": {},
   "outputs": [],
   "source": [
    "label['shapes'][0]['points']"
   ]
  },
  {
   "cell_type": "code",
   "execution_count": null,
   "id": "5b84b72b",
   "metadata": {},
   "outputs": [],
   "source": [
    "coords = [0,0,0,0]\n",
    "coords[0] = label['shapes'][0]['points'][0][0]\n",
    "coords[1] = label['shapes'][0]['points'][0][1]\n",
    "coords[2] = label['shapes'][0]['points'][1][0]\n",
    "coords[3] = label['shapes'][0]['points'][1][1]"
   ]
  },
  {
   "cell_type": "code",
   "execution_count": null,
   "id": "e4e3755d",
   "metadata": {},
   "outputs": [],
   "source": [
    "img.shape"
   ]
  },
  {
   "cell_type": "code",
   "execution_count": null,
   "id": "07070301",
   "metadata": {},
   "outputs": [],
   "source": [
    "coords = list(np.divide(coords, [1840, 3264, 1840, 3264]))"
   ]
  },
  {
   "cell_type": "code",
   "execution_count": null,
   "id": "78c6b10d",
   "metadata": {},
   "outputs": [],
   "source": [
    "coords"
   ]
  },
  {
   "cell_type": "code",
   "execution_count": null,
   "id": "a2ef42c7",
   "metadata": {},
   "outputs": [],
   "source": [
    "augmented = augmentor(image=img, bboxes=[coords], class_labels=['face'])"
   ]
  },
  {
   "cell_type": "code",
   "execution_count": null,
   "id": "0c624243",
   "metadata": {},
   "outputs": [],
   "source": [
    "augmented['image'].shape"
   ]
  },
  {
   "cell_type": "code",
   "execution_count": null,
   "id": "1d60cc39",
   "metadata": {},
   "outputs": [],
   "source": [
    "cv2.rectangle(augmented['image'],\n",
    "             tuple(np.multiply(augmented['bboxes'][0][:2], [1500, 1500]).astype(int)),\n",
    "                tuple(np.multiply(augmented['bboxes'][0][2:], [1500, 1500]).astype(int)),\n",
    "                        (0,255,0), 3)\n",
    "plt.imshow(augmented['image'])"
   ]
  },
  {
   "cell_type": "code",
   "execution_count": null,
   "id": "dcfcf506",
   "metadata": {},
   "outputs": [],
   "source": [
    "for partition in ['train', 'val', 'test']:\n",
    "    for image in os.listdir(os.path.join('data', partition, 'images')):\n",
    "        img = cv2.imread(os.path.join('data', partition, 'images', image))\n",
    "        \n",
    "        coords = [0,0,0.00001,0.00001]\n",
    "        label_path = os.path.join('data', partition, 'labels', f'{image.split(\".\")[0]}.json')\n",
    "        if os.path.exists(label_path):\n",
    "            with open(label_path, 'r') as f:\n",
    "                label = json.load(f)\n",
    "            \n",
    "            coords[0] = label['shapes'][0]['points'][0][0]\n",
    "            coords[1] = label['shapes'][0]['points'][0][1]\n",
    "            coords[2] = label['shapes'][0]['points'][1][0]\n",
    "            coords[3] = label['shapes'][0]['points'][1][1]\n",
    "            coords = list(np.divide(coords, [1840, 3264, 1840, 3264]))\n",
    "            \n",
    "        try:\n",
    "            for x in range(50):\n",
    "                augmented = augmentor(image=img, bboxes=[coords], class_labels=['face'])\n",
    "                cv2.imwrite(os.path.join('aug_data', partition, 'images', f'{image.split(\".\")[0]}.{x}.jpg'), augmented['image'])\n",
    "                \n",
    "                annotation = {}\n",
    "                annotation['image'] = image\n",
    "                \n",
    "                if os.path.exists(label_path):\n",
    "                    if len(augmented['bboxes']) == 0:\n",
    "                        annotation['bbox'] = [0,0,0,0]\n",
    "                        annotation['class'] = 0\n",
    "                    else:\n",
    "                        annotation['bbox'] = augmented['bboxes'][0]\n",
    "                        annotation['class'] = 1\n",
    "                else:\n",
    "                    annotation['bbox'] = [0,0,0,0]\n",
    "                    annotation['class'] = 0\n",
    "                    \n",
    "                with open(os.path.join('aug_data', partition, 'labels', f'{image.split(\".\")[0]}.{x}.json'), 'w') as f:\n",
    "                    json.dump(annotation, f)\n",
    "        except Exception as e:\n",
    "            print(e)"
   ]
  },
  {
   "cell_type": "code",
   "execution_count": null,
   "id": "86c7c4f6",
   "metadata": {},
   "outputs": [],
   "source": [
    "train_images = tf.data.Dataset.list_files('aug_data/train/images/*.jpg', shuffle=False)\n",
    "train_images = train_images.map(load_image)\n",
    "train_images = train_images.map(lambda img: tf.image.resize(img, (120,120)))\n",
    "train_images = train_images.map(lambda img: img/255)"
   ]
  },
  {
   "cell_type": "code",
   "execution_count": null,
   "id": "0b5c6115",
   "metadata": {},
   "outputs": [],
   "source": [
    "val_images = tf.data.Dataset.list_files('aug_data/val/images/*.jpg', shuffle=False)\n",
    "val_images = val_images.map(load_image)\n",
    "val_images = val_images.map(lambda img: tf.image.resize(img, (120,120)))\n",
    "val_images = val_images.map(lambda img: img/255)"
   ]
  },
  {
   "cell_type": "code",
   "execution_count": null,
   "id": "67a0fe2e",
   "metadata": {},
   "outputs": [],
   "source": [
    "test_images = tf.data.Dataset.list_files('aug_data/test/images/*.jpg', shuffle=False)\n",
    "test_images = test_images.map(load_image)\n",
    "test_images = test_images.map(lambda img: tf.image.resize(img, (120,120)))\n",
    "test_images = test_images.map(lambda img: img/255)"
   ]
  },
  {
   "cell_type": "code",
   "execution_count": null,
   "id": "80e5fc1f",
   "metadata": {},
   "outputs": [],
   "source": [
    "def load_labels(label_path):\n",
    "    with open(label_path.numpy(), 'r', encoding = 'utf-8') as f:\n",
    "        label = json.load(f)\n",
    "    return [label['class']], label['bbox']"
   ]
  },
  {
   "cell_type": "code",
   "execution_count": null,
   "id": "8ca13a22",
   "metadata": {},
   "outputs": [],
   "source": [
    "train_labels = tf.data.Dataset.list_files('aug_data/train/labels/*.json', shuffle=False)\n",
    "train_labels = train_labels.map(lambda lbl: tf.py_function(load_labels, [lbl], [tf.uint8, tf.float16]))"
   ]
  },
  {
   "cell_type": "code",
   "execution_count": null,
   "id": "23e4c0af",
   "metadata": {},
   "outputs": [],
   "source": [
    "val_labels = tf.data.Dataset.list_files('aug_data/val/labels/*.json', shuffle=False)\n",
    "val_labels = val_labels.map(lambda lbl: tf.py_function(load_labels, [lbl], [tf.uint8, tf.float16]))"
   ]
  },
  {
   "cell_type": "code",
   "execution_count": null,
   "id": "e48936f8",
   "metadata": {},
   "outputs": [],
   "source": [
    "test_labels = tf.data.Dataset.list_files('aug_data/test/labels/*.json', shuffle=False)\n",
    "test_labels = test_labels.map(lambda lbl: tf.py_function(load_labels, [lbl], [tf.uint8, tf.float16]))"
   ]
  },
  {
   "cell_type": "markdown",
   "id": "0622878e",
   "metadata": {},
   "source": [
    "#  Combine Label and Image Samples"
   ]
  },
  {
   "cell_type": "code",
   "execution_count": null,
   "id": "107b0e97",
   "metadata": {},
   "outputs": [],
   "source": [
    "len(train_images), len(val_images), len(test_images)"
   ]
  },
  {
   "cell_type": "code",
   "execution_count": null,
   "id": "a1c37d79",
   "metadata": {},
   "outputs": [],
   "source": [
    "train = tf.data.Dataset.zip((train_images, train_labels)).shuffle(6000).batch(8).prefetch(4)"
   ]
  },
  {
   "cell_type": "code",
   "execution_count": null,
   "id": "69ab9e7d",
   "metadata": {},
   "outputs": [],
   "source": [
    "val = tf.data.Dataset.zip((val_images, val_labels)).shuffle(1000).batch(8).prefetch(4)"
   ]
  },
  {
   "cell_type": "code",
   "execution_count": null,
   "id": "0d0be441",
   "metadata": {},
   "outputs": [],
   "source": [
    "test = tf.data.Dataset.zip((test_images, test_labels)).shuffle(1000).batch(8).prefetch(4)"
   ]
  },
  {
   "cell_type": "code",
   "execution_count": null,
   "id": "18133187",
   "metadata": {},
   "outputs": [],
   "source": [
    "train.as_numpy_iterator().next()[0].shape"
   ]
  },
  {
   "cell_type": "code",
   "execution_count": null,
   "id": "5adfdb53",
   "metadata": {},
   "outputs": [],
   "source": [
    "data_samples = train.as_numpy_iterator()"
   ]
  },
  {
   "cell_type": "code",
   "execution_count": null,
   "id": "b8631f95",
   "metadata": {},
   "outputs": [],
   "source": [
    "res = data_samples.next()"
   ]
  },
  {
   "cell_type": "code",
   "execution_count": null,
   "id": "6c174f97",
   "metadata": {},
   "outputs": [],
   "source": [
    "fig, ax = plt.subplots(ncols=4, figsize=(20,20))\n",
    "for i in range(4):\n",
    "    sample_image = res[0][i]\n",
    "    sample_coords = res[1][1][i]\n",
    "    \n",
    "    cv2.rectangle(sample_image,\n",
    "                 tuple(np.multiply(sample_coords[:2], [120,120]).astype(int)),\n",
    "                 tuple(np.multiply(sample_coords[2:], [120, 120]).astype(int)),\n",
    "                 (0,255,0), 1)\n",
    "    \n",
    "    ax[i].imshow(sample_image)"
   ]
  },
  {
   "cell_type": "markdown",
   "id": "123310c5",
   "metadata": {},
   "source": [
    "# Neural Network"
   ]
  },
  {
   "cell_type": "code",
   "execution_count": null,
   "id": "136daafb",
   "metadata": {},
   "outputs": [],
   "source": [
    "vgg = tf.keras.applications.VGG16(include_top=False)"
   ]
  },
  {
   "cell_type": "code",
   "execution_count": null,
   "id": "d02bb1c9",
   "metadata": {},
   "outputs": [],
   "source": [
    "vgg.summary()"
   ]
  },
  {
   "cell_type": "code",
   "execution_count": null,
   "id": "8a87cb0a",
   "metadata": {},
   "outputs": [],
   "source": [
    "def build_model():\n",
    "    input_layer = tf.keras.layers.Input(shape=(120,120,3))\n",
    "    \n",
    "    vgg = tf.keras.applications.VGG16(include_top=False)(input_layer)\n",
    "    \n",
    "    f1 = tf.keras.layers.GlobalMaxPooling2D()(vgg)\n",
    "    clas_1 = tf.keras.layers.Dense(2048, activation='relu')(f1)\n",
    "    clas_2 = tf.keras.layers.Dense(1, activation='sigmoid')(clas_1)\n",
    "    \n",
    "    f2 = tf.keras.layers.GlobalMaxPooling2D()(vgg)\n",
    "    reg_1 = tf.keras.layers.Dense(2048, activation='relu')(f2)\n",
    "    reg_2 = tf.keras.layers.Dense(4, activation='sigmoid')(reg_1)\n",
    "    \n",
    "    facedetector = tf.keras.models.Model(inputs=input_layer, outputs=[clas_2, reg_2])\n",
    "    return facedetector"
   ]
  },
  {
   "cell_type": "code",
   "execution_count": null,
   "id": "a5e4887d",
   "metadata": {},
   "outputs": [],
   "source": [
    "facedetector = build_model()"
   ]
  },
  {
   "cell_type": "code",
   "execution_count": null,
   "id": "69327664",
   "metadata": {},
   "outputs": [],
   "source": [
    "facedetector.summary()"
   ]
  },
  {
   "cell_type": "code",
   "execution_count": null,
   "id": "7806b0c7",
   "metadata": {},
   "outputs": [],
   "source": [
    "X, y = train.as_numpy_iterator().next()"
   ]
  },
  {
   "cell_type": "code",
   "execution_count": null,
   "id": "5ae471a0",
   "metadata": {},
   "outputs": [],
   "source": [
    "X.shape"
   ]
  },
  {
   "cell_type": "code",
   "execution_count": null,
   "id": "2c7e7977",
   "metadata": {},
   "outputs": [],
   "source": [
    "classes, coords = facedetector.predict(X)"
   ]
  },
  {
   "cell_type": "code",
   "execution_count": null,
   "id": "5e921c5e",
   "metadata": {},
   "outputs": [],
   "source": [
    "classes, coords"
   ]
  },
  {
   "cell_type": "markdown",
   "id": "7710a181",
   "metadata": {},
   "source": [
    "# Losses and Optimizers"
   ]
  },
  {
   "cell_type": "code",
   "execution_count": null,
   "id": "a0ec673b",
   "metadata": {},
   "outputs": [],
   "source": [
    "batch = len(train)\n",
    "lr_schedule = tf.keras.optimizers.schedules.ExponentialDecay(\n",
    "    initial_learning_rate=0.0001,\n",
    "    decay_steps=10000,\n",
    "    decay_rate=(1./0.75-1)/batch)"
   ]
  },
  {
   "cell_type": "code",
   "execution_count": null,
   "id": "e634ca02",
   "metadata": {},
   "outputs": [],
   "source": [
    "optimizer = tf.keras.optimizers.Adam(learning_rate=lr_schedule)"
   ]
  },
  {
   "cell_type": "code",
   "execution_count": null,
   "id": "96097f4a",
   "metadata": {},
   "outputs": [],
   "source": [
    "def localization_loss(y_true, yhat):\n",
    "    delta_coord = tf.reduce_sum(tf.square(y_true[:,:2] - yhat[:,:2]))\n",
    "    \n",
    "    h_true = y_true[:,3] - y_true[:,1]\n",
    "    w_true = y_true[:,2] - y_true[:,0]\n",
    "    \n",
    "    h_pred = yhat[:,3] - yhat[:,1]\n",
    "    w_pred = yhat[:,2] - yhat[:,0]\n",
    "    \n",
    "    delta_size = tf.reduce_sum(tf.square(w_true-w_pred) + tf.square(h_true-h_pred))\n",
    "    \n",
    "    return delta_coord + delta_size"
   ]
  },
  {
   "cell_type": "code",
   "execution_count": null,
   "id": "7acdd29a",
   "metadata": {},
   "outputs": [],
   "source": [
    "clasLoss = tf.keras.losses.BinaryCrossentropy()\n",
    "regLoss = localization_loss"
   ]
  },
  {
   "cell_type": "code",
   "execution_count": null,
   "id": "3da449dd",
   "metadata": {},
   "outputs": [],
   "source": [
    "regLoss(y[1], coords)"
   ]
  },
  {
   "cell_type": "code",
   "execution_count": null,
   "id": "704810df",
   "metadata": {},
   "outputs": [],
   "source": [
    "clasLoss(y[0], classes)"
   ]
  },
  {
   "cell_type": "markdown",
   "id": "378d63ac",
   "metadata": {},
   "source": [
    "# Train Neural Network"
   ]
  },
  {
   "cell_type": "code",
   "execution_count": null,
   "id": "ec857fbe",
   "metadata": {},
   "outputs": [],
   "source": [
    "class FaceDetector(tf.keras.models.Model):\n",
    "    def __init__(self, eyedetector, **kwargs):\n",
    "        super().__init__(**kwargs)\n",
    "        self.model = eyedetector\n",
    "    \n",
    "    def compile(self, optimizer, clasLoss, localizationloss, **kwargs):\n",
    "        super().compile(**kwargs)\n",
    "        self.closs = clasLoss\n",
    "        self.lloss = localizationloss\n",
    "        self.optimizer = optimizer\n",
    "        \n",
    "    def train_step(self, batch, **kwargs):\n",
    "        \n",
    "        X, y = batch\n",
    "        \n",
    "        with tf.GradientTape() as tape:\n",
    "            classes, coords = self.model(X, training=True)\n",
    "            \n",
    "            batch_classloss = self.closs(y[0], classes)\n",
    "            batch_localloss = self.lloss(tf.cast(y[1], tf.float32), coords)\n",
    "            \n",
    "            total_loss = batch_localloss+0.5*batch_classloss\n",
    "            \n",
    "            grad = tape.gradient(total_loss, self.model.trainable_variables)\n",
    "            \n",
    "        optimizer.apply_gradients(zip(grad, self.model.trainable_variables))\n",
    "        \n",
    "        return {\"total_loss\": total_loss, \"class_loss\": batch_classloss, \"regress_loss\": batch_localloss}\n",
    "    \n",
    "    def test_step(self, batch, **kwargs):\n",
    "        X, y = batch\n",
    "        \n",
    "        classes, coords = self. model(X, training=False)\n",
    "        \n",
    "        batch_classloss = self.closs(y[0], classes)\n",
    "        batch_localloss = self.lloss(tf.cast(y[1], tf.float32), coords)    \n",
    "        total_loss = batch_localloss+0.5*batch_classloss\n",
    "        \n",
    "        return {\"total_loss\": total_loss, \"class_loss\": batch_classloss, \"regress_loss\": batch_localloss}\n",
    "    \n",
    "    def call(self, X, **kwargs):\n",
    "        return self.model(X, **kwargs)"
   ]
  },
  {
   "cell_type": "code",
   "execution_count": null,
   "id": "a2f35e4e",
   "metadata": {},
   "outputs": [],
   "source": [
    "model = FaceDetector(facedetector)"
   ]
  },
  {
   "cell_type": "code",
   "execution_count": null,
   "id": "68572512",
   "metadata": {},
   "outputs": [],
   "source": [
    "model.compile(optimizer, clasLoss, regLoss)"
   ]
  },
  {
   "cell_type": "code",
   "execution_count": null,
   "id": "5f3e0dcd",
   "metadata": {},
   "outputs": [],
   "source": [
    "history = model.fit(train.take(25), epochs=10, validation_data=val, callbacks=[tf.keras.callbacks.TensorBoard(log_dir='logdir')])"
   ]
  },
  {
   "cell_type": "code",
   "execution_count": null,
   "id": "40288228",
   "metadata": {},
   "outputs": [],
   "source": [
    "fig, ax = plt.subplots(ncols=3, figsize=(20,5))\n",
    "\n",
    "ax[0].plot(history.history['total_loss'], color='teal', label='loss')\n",
    "ax[0].plot(history.history['val_total_loss'], color='orange', label='val loss')\n",
    "ax[0].title.set_text('Loss')\n",
    "ax[0].legend()\n",
    "\n",
    "ax[1].plot(history.history['class_loss'], color='teal', label='class loss')\n",
    "ax[1].plot(history.history['val_class_loss'], color='orange', label='val class loss')\n",
    "ax[1].title.set_text('Classification Loss')\n",
    "ax[1].legend()\n",
    "\n",
    "ax[2].plot(history.history['regress_loss'], color='teal', label='regressloss')\n",
    "ax[2].plot(history.history['val_regress_loss'], color='orange', label='val regress loss')\n",
    "ax[2].title.set_text('Regression Loss')\n",
    "ax[2].legend()\n",
    "\n",
    "plt.show()"
   ]
  },
  {
   "cell_type": "code",
   "execution_count": null,
   "id": "365c4b6e",
   "metadata": {},
   "outputs": [],
   "source": [
    "test_data = test.as_numpy_iterator()"
   ]
  },
  {
   "cell_type": "code",
   "execution_count": null,
   "id": "be80483a",
   "metadata": {},
   "outputs": [],
   "source": [
    "test_sample = test_data.next()"
   ]
  },
  {
   "cell_type": "code",
   "execution_count": null,
   "id": "f1aa0362",
   "metadata": {},
   "outputs": [],
   "source": [
    "yhat = facedetector.predict(test_sample[0])"
   ]
  },
  {
   "cell_type": "code",
   "execution_count": null,
   "id": "7e494d37",
   "metadata": {},
   "outputs": [],
   "source": [
    "fig, ax= plt.subplots(ncols=4, figsize=(20,20))\n",
    "for i in range(4):\n",
    "    sample_image = test_sample[0][i]\n",
    "    sample_coords = yhat[1][i]\n",
    "    \n",
    "    if yhat[0][i] > 0.5:\n",
    "        cv2. rectangle(sample_image,\n",
    "                      tuple(np.multiply(sample_coords[:2], [120,120]).astype(int)),\n",
    "                       tuple(np.multiply(sample_coords[2:], [120,120]).astype(int)),\n",
    "                      (0,255,0), 1)\n",
    "        \n",
    "    ax[i].imshow(sample_image)"
   ]
  },
  {
   "cell_type": "code",
   "execution_count": null,
   "id": "3615ff57",
   "metadata": {},
   "outputs": [],
   "source": [
    "facedetector.save('facedetector.h5')"
   ]
  },
  {
   "cell_type": "code",
   "execution_count": null,
   "id": "daf3cda1",
   "metadata": {},
   "outputs": [],
   "source": [
    "facedetector = load_model('facedetector.h5')"
   ]
  }
 ],
 "metadata": {
  "kernelspec": {
   "display_name": "Python 3 (ipykernel)",
   "language": "python",
   "name": "python3"
  },
  "language_info": {
   "codemirror_mode": {
    "name": "ipython",
    "version": 3
   },
   "file_extension": ".py",
   "mimetype": "text/x-python",
   "name": "python",
   "nbconvert_exporter": "python",
   "pygments_lexer": "ipython3",
   "version": "3.10.9"
  }
 },
 "nbformat": 4,
 "nbformat_minor": 5
}
